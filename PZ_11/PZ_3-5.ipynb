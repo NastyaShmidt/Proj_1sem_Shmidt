{
  "nbformat": 4,
  "nbformat_minor": 0,
  "metadata": {
    "colab": {
      "name": "Untitled2.ipynb",
      "provenance": [],
      "toc_visible": true,
      "authorship_tag": "ABX9TyNoeHj+O1kgaFgCIKyIt68q",
      "include_colab_link": true
    },
    "kernelspec": {
      "name": "python3",
      "display_name": "Python 3"
    },
    "language_info": {
      "name": "python"
    }
  },
  "cells": [
    {
      "cell_type": "markdown",
      "metadata": {
        "id": "view-in-github",
        "colab_type": "text"
      },
      "source": [
        "<a href=\"https://colab.research.google.com/github/NastyaShmidt/Proj_1sem_Shmidt/blob/master/PZ_11/PZ_3-5.ipynb\" target=\"_parent\"><img src=\"https://colab.research.google.com/assets/colab-badge.svg\" alt=\"Open In Colab\"/></a>"
      ]
    },
    {
      "cell_type": "markdown",
      "source": [
        "# ПЗ 3"
      ],
      "metadata": {
        "id": "MJOfjI0_mQAR"
      }
    },
    {
      "cell_type": "markdown",
      "source": [
        "Даны целые числа a,b,c, являющиеся сторонами некоторого треуголника. Проверить истинность высказывания: «Треугольник со сторонами a,b,c является равносторонним»."
      ],
      "metadata": {
        "id": "-xaiVvykmZ6Y"
      }
    },
    {
      "cell_type": "code",
      "source": [
        "# Даны целые числа a,b,c, являющиеся сторонами некоторого треуголника.\n",
        "# Проверить истинность высказывания:\n",
        "# «Треугольник со сторонами a,b,c является равносторонним».\n",
        "\n",
        "a = input(\"Введите размер стороны a треугольника: \")\n",
        "while type(a) != int:   #Обработка исключений\n",
        "    try:\n",
        "        a = int(a)\n",
        "    except ValueError:\n",
        "        print(\"Введен неверный размер!\")\n",
        "        a = input(\"Введите размер стороны a треугольника: \")\n",
        "\n",
        "b = input(\"Введите размер стороны b треугольника: \")\n",
        "while type(b) != int:   #Обработка исключений\n",
        "    try:\n",
        "        b = int(b)\n",
        "    except ValueError:\n",
        "        print(\"Введен неверный размер!\")\n",
        "        b = input(\"Введите размер стороны b треугольника: \")\n",
        "\n",
        "c = input(\"Введите размер стороны с треугольника: \")\n",
        "while type(c) != int:  # Обработка исключений\n",
        "    try:\n",
        "        c = int(c)\n",
        "    except ValueError:\n",
        "        print(\"Введен неверный размер!\")\n",
        "        c = input(\"Введите размер стороны с треугольника: \")\n",
        "\n",
        "if (a==b) and (a==c) and (b==c):\n",
        "    print(\"Высказывание «Треугольник со сторонами a,b,c является равносторонним»  \" \n",
        "          \" является истинным.\")\n",
        "else:\n",
        "    print(\"Высказывание «Треугольник со сторонами a,b,c является равносторонним» \"\n",
        "          \" является ложным.\")"
      ],
      "metadata": {
        "id": "PgXz0PiFmaEw"
      },
      "execution_count": null,
      "outputs": []
    },
    {
      "cell_type": "markdown",
      "source": [
        "Даны четыре целых числа, одно из которых отлично от трех других, равных между собой. Определить порядковый номер числа, отличного от остальных."
      ],
      "metadata": {
        "id": "ua2MjlXxmaco"
      }
    },
    {
      "cell_type": "code",
      "source": [
        "# Даны четыре целых числа, одно из которых отлично от трех других,\n",
        "# равных между собой. Определить порядковый номер числа,\n",
        "# отличного от остальных.\n",
        "\n",
        "a = input(\"Введите 1-ое число: \")\n",
        "while type(a) != int:   #Обработка исключений\n",
        "    try:\n",
        "        a = int(a)\n",
        "    except ValueError:\n",
        "        print(\"Введено неверное число!\")\n",
        "        a = input(\"Введите 1-ое число: \")\n",
        "\n",
        "b = input(\"Введите 2-ое число: \")\n",
        "while type(b) != int:   #Обработка исключений\n",
        "    try:\n",
        "        b = int(b)\n",
        "    except ValueError:\n",
        "        print(\"Введено неверное число!\")\n",
        "        b = input(\"Введите 2-ое число: \")\n",
        "\n",
        "c = input(\"Введите 3-ое число: \")\n",
        "while type(c) != int:   #Обработка исключений\n",
        "    try:\n",
        "        c = int(c)\n",
        "    except ValueError:\n",
        "        print(\"Введено неверное число!\")\n",
        "        c = input(\"Введите 3-е число: \")\n",
        "\n",
        "d = input(\"Введите 4-ое число: \")\n",
        "while type(d) != int:   #Обработка исключений\n",
        "    try:\n",
        "        d = int(d)\n",
        "    except ValueError:\n",
        "        print(\"Введено неверное число!\")\n",
        "        d = input(\"Введите 4-е число: \")\n",
        "\n",
        "if (b == c) and (b == d) and (c == d):\n",
        "    print(\"Номер числа, отличного от остальных - 1.\")\n",
        "elif (a == c) and (c == d) and (a == d):\n",
        "    print(\"Номер числа, отличного от остальных - 2.\")\n",
        "elif (a == b) and (b == d) and (a == d):\n",
        "    print(\"Номер числа, отличного от остальных - 3.\")\n",
        "elif (a == c) and (b == c) and (a == b):\n",
        "    print(\"Номер числа, отличного от остальных - 4.\")\n",
        "else:\n",
        "    print(\"Введено более 1 числа отличного от других.\")"
      ],
      "metadata": {
        "id": "69GtqO5wmahh"
      },
      "execution_count": null,
      "outputs": []
    },
    {
      "cell_type": "markdown",
      "source": [
        "# ПЗ 4"
      ],
      "metadata": {
        "id": "SYC58q4llDQo"
      }
    },
    {
      "cell_type": "markdown",
      "source": [
        "Дано целое число N (>0). Найти значение выражения 1.1-1.2+1.3-... (N слагаемых, знаки чередуются). Условный оператор не использовать."
      ],
      "metadata": {
        "id": "6CPvu0QGmrCp"
      }
    },
    {
      "cell_type": "code",
      "source": [
        "# Дано целое число N (>0). Найти значение выражения 1.1-1.2+1.3-...\n",
        "# (N слагаемых, знаки чередуются). Условный оператор не использовать.\n",
        "\n",
        "N = input(\"Введите количество элементов: \")\n",
        "while type(N) != float:   # Обработка исключений\n",
        "    try:\n",
        "        N = float(N)\n",
        "    except ValueError:\n",
        "        print(\"Введено неверное число!\")\n",
        "        N = input(\"Введите количество элементов: \")\n",
        "\n",
        "    try:\n",
        "        while N <= 0:\n",
        "            print(\"Введено неверное число!\")\n",
        "            N = input(\"Введите количество элементов: \")\n",
        "    except TypeError:\n",
        "        continue\n",
        "\n",
        "a = 1.1\n",
        "b = 1\n",
        "s = 0\n",
        "while N > 0:\n",
        "    N -= 1\n",
        "    s += b * a\n",
        "    b *= -1\n",
        "    a += 0.1\n",
        "print(round(s, 2))"
      ],
      "metadata": {
        "id": "mMJfOXdhlyKy"
      },
      "execution_count": null,
      "outputs": []
    },
    {
      "cell_type": "markdown",
      "source": [
        "Дано целое число N (>0). С помощью операций деления нацело и взятия остатка от деления определить, имеются ли в записи числа N цифра 2. Если имеются, то вывести TRUE, если нет — вывести FALSE."
      ],
      "metadata": {
        "id": "oUXhuMyrlFcq"
      }
    },
    {
      "cell_type": "code",
      "source": [
        "# Дано целое число N (>0). С помощью операций деления нацело\n",
        "# и взятия остатка от деления определить, имеются ли\n",
        "# в записи числа N цифра 2. Если имеются,\n",
        "# то вывести TRUE, если нет — вывести FALSE.\n",
        "\n",
        "n = input(\"Введите число: \")\n",
        "while type(n) != int:    # Обработка исключений\n",
        "    try:\n",
        "        n = int(n)\n",
        "    except ValueError:\n",
        "        print(\"Введено не верное число.\")\n",
        "        n = input(\" Введите число: \")\n",
        "    try:\n",
        "        while n < 0:    # Ограничение: n - положительное число\n",
        "            print(\"Введено не верное число.\")\n",
        "            n = input(\"Введите число: \")\n",
        "    except TypeError:\n",
        "        continue\n",
        "\n",
        "s = 0\n",
        "while n > 0:       #Проверка каждой цифры в числе на то, что она является \"2\"\n",
        "    k = n\n",
        "    if k % 2 != 0:\n",
        "        p = 0\n",
        "        n = n // 10\n",
        "    else:\n",
        "        k %= 10\n",
        "        if k / 2 == 1:\n",
        "            p = 1\n",
        "            n = n // 10\n",
        "        else:\n",
        "            p = 0\n",
        "            n = n // 10\n",
        "    s += p\n",
        "if s >= 1:\n",
        "    print(\"True\")\n",
        "else:\n",
        "    print(\"False\")"
      ],
      "metadata": {
        "id": "CUhcNYe2lFhQ"
      },
      "execution_count": null,
      "outputs": []
    },
    {
      "cell_type": "markdown",
      "source": [
        "#ПЗ 5\n"
      ],
      "metadata": {
        "id": "azGx2tNBlDdn"
      }
    },
    {
      "cell_type": "markdown",
      "source": [
        "Составьте функцию, которая выполнит суммирования числового ряда."
      ],
      "metadata": {
        "id": "LRzVLOxwlF24"
      }
    },
    {
      "cell_type": "code",
      "source": [
        "#Составьте функцию, которая выполнит суммирования числового ряда.\n",
        "\n",
        "\n",
        "def  S():\n",
        "    a = (int(input(\"Введите окончательное число последовательности: \")))\n",
        "    list1 = range(a)\n",
        "    print(sum(list1))\n",
        "\n",
        "S()"
      ],
      "metadata": {
        "id": "VM6Eo7CJlF7D"
      },
      "execution_count": null,
      "outputs": []
    },
    {
      "cell_type": "markdown",
      "source": [
        "Описать функцию Minmax(X, Y), записывающую в переменную X минимальное из значений X и Y, а в переменную Y – максимальное из этих значений (X и Y – вещественные параметры, являющиеся одновременно входными и выходными). Используя четыре вызова этой функции , найти минимальное и максимальное из данных чисел A, B, C, D."
      ],
      "metadata": {
        "id": "aswHyXv8lF_S"
      }
    },
    {
      "cell_type": "code",
      "source": [
        "# Описать функцию Minmax(X, Y), записывающую в переменную X минимальное\n",
        "# из значений X и Y, а в переменную Y – максимальное из этих значений\n",
        "# (X и Y – вещественные параметры, являющиеся одновременно\n",
        "# входными и выходными). Используя четыре вызова этой функции ,\n",
        "# найти минимальное и максимальное из данных чисел A, B, C, D.\n",
        "\n",
        "def Minmax1():\n",
        "    a = float(input(\"Введите число A: \"))\n",
        "    b = float(input(\"Введите число B: \"))\n",
        "    c = float(input(\"Введите число C: \"))\n",
        "    d = float(input(\"Введите число D: \"))\n",
        "    x = min(a, b, c, d)\n",
        "    y = max(a, b, c, d)\n",
        "    print(x, y)\n",
        "    return x, y\n",
        "\n",
        "\n",
        "Minmax1()\n",
        "Minmax1()\n",
        "Minmax1()\n",
        "Minmax1()\n"
      ],
      "metadata": {
        "id": "MB_AS2OelGDQ"
      },
      "execution_count": null,
      "outputs": []
    }
  ]
}